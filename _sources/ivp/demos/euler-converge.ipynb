{
 "cells": [
  {
   "cell_type": "markdown",
   "metadata": {},
   "source": [
    "# Convergence of Euler's method\n",
    "\n",
    "We consider the IVP $u'=\\sin[(u+t)^2]$ over $0\\le t \\le 4$, with $u(0)=-1$."
   ]
  },
  {
   "cell_type": "code",
   "execution_count": null,
   "metadata": {},
   "outputs": [],
   "source": [
    "using FundamentalsNumericalComputation"
   ]
  },
  {
   "cell_type": "code",
   "execution_count": null,
   "metadata": {},
   "outputs": [],
   "source": [
    "f = (u,p,t) -> sin((t+u)^2);\n",
    "tspan = (0.0,4.0);\n",
    "u0 = -1.0;\n",
    "\n",
    "ivp = ODEProblem(f,u0,tspan)"
   ]
  },
  {
   "cell_type": "code",
   "execution_count": null,
   "metadata": {},
   "outputs": [],
   "source": [
    "t,u = FNC.euler(ivp,20)\n",
    "\n",
    "plot(t,u,m=:o,label=\"n=20\",\n",
    "    xlabel=\"t\", ylabel=\"u(t)\", title=\"Solution by Euler's method\" )"
   ]
  },
  {
   "cell_type": "markdown",
   "metadata": {},
   "source": [
    "We could define a different interpolant to get a smoother picture above, but the derivation assumed the piecewise linear interpolant, so it is the most meaningful one. We can instead request more steps to make the interpolant look smoother."
   ]
  },
  {
   "cell_type": "code",
   "execution_count": null,
   "metadata": {},
   "outputs": [],
   "source": [
    "t,u = FNC.euler(ivp,200)\n",
    "plot!(t,u,label=\"n=200\")"
   ]
  },
  {
   "cell_type": "markdown",
   "metadata": {},
   "source": [
    "Increasing $n$ changed the solution noticeably. Since we know that interpolants and finite differences become more accurate as $h\\to 0$, we should expect that from Euler's method too.\n",
    "\n",
    "\n",
    "We don't have an exact solution to compare to, so we will use a `DifferentialEquations` solver to construct an accurate solution."
   ]
  },
  {
   "cell_type": "code",
   "execution_count": null,
   "metadata": {},
   "outputs": [],
   "source": [
    "u_exact = solve(ivp,Tsit5(),reltol=1e-14,abstol=1e-14)\n",
    "\n",
    "plot!(u_exact,l=:dash,label=\"accurate\")"
   ]
  },
  {
   "cell_type": "markdown",
   "metadata": {},
   "source": [
    "Now we can perform a convergence study."
   ]
  },
  {
   "cell_type": "code",
   "execution_count": null,
   "metadata": {},
   "outputs": [],
   "source": [
    "n = @. 50*2^(0:5)\n",
    "err = zeros(size(n))\n",
    "for (j,n) = enumerate(n)\n",
    "    t,u = FNC.euler(ivp,n)\n",
    "    err[j] = norm(u_exact.(t)-u,Inf)\n",
    "end\n",
    "\n",
    "pretty_table((n=n,err=err),[\"n\",\"max-norm error\"],backend=:html)"
   ]
  },
  {
   "cell_type": "markdown",
   "metadata": {},
   "source": [
    "The error is almost perfectly halved at each step, so we expect that a log-log plot will reveal first-order convergence."
   ]
  },
  {
   "cell_type": "code",
   "execution_count": null,
   "metadata": {},
   "outputs": [],
   "source": [
    "plot(n,err,m=:o,label=\"results\", \n",
    "    xaxis=(:log10,\"n\"), yaxis=(:log10,\"inf-norm error\"), title=\"Convergence of Euler's method\")\n",
    "\n",
    "plot!(n,0.05*(n/n[1]).^(-1),l=:dash,label=\"1st order\")"
   ]
  }
 ],
 "metadata": {
  "kernelspec": {
   "display_name": "Julia (faststart)",
   "language": "julia",
   "name": "julia-fast"
  },
  "language_info": {
   "file_extension": ".jl",
   "mimetype": "application/julia",
   "name": "julia",
   "version": "1.4.1"
  }
 },
 "nbformat": 4,
 "nbformat_minor": 4
}
