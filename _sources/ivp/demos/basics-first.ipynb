{
 "cells": [
  {
   "cell_type": "markdown",
   "metadata": {},
   "source": [
    "# Numerical IVP solution\n",
    "\n",
    "The equation $u'=\\sin[(u+t)^2]$ also has a solution that can be found numerically with ease, even though no formula exists for its solution. The `DifferentialEquations` package offers solvers for a variety of problems. Because many practical problems come with parameters that are fixed within an instance but varied from one instance to another, the syntax for IVPs includes a input argument `p` that stays fixed throughout the solution. Here we don't use that argument, but it must be in our definition for the solver to work."
   ]
  },
  {
   "cell_type": "code",
   "execution_count": null,
   "metadata": {},
   "outputs": [],
   "source": [
    "using FundamentalsNumericalComputation"
   ]
  },
  {
   "cell_type": "code",
   "execution_count": null,
   "metadata": {},
   "outputs": [],
   "source": [
    "f = (u,p,t) -> sin((t+u)^2)     # include p even when not used\n",
    "tspan = (0.0,4.0)               # use parens, at least one value is floating-point\n",
    "u0 = -1.0"
   ]
  },
  {
   "cell_type": "markdown",
   "metadata": {},
   "source": [
    "With the data above we define a \"problem object\" and then solve it. We tell the solver to use the `Tsit5` method, which is a good first choice for most problems."
   ]
  },
  {
   "cell_type": "code",
   "execution_count": null,
   "metadata": {},
   "outputs": [],
   "source": [
    "ivp = ODEProblem(f,u0,tspan)\n",
    "sol = solve(ivp,Tsit5());"
   ]
  },
  {
   "cell_type": "markdown",
   "metadata": {},
   "source": [
    "The `plot` function knows natively how to plot this solution."
   ]
  },
  {
   "cell_type": "code",
   "execution_count": null,
   "metadata": {},
   "outputs": [],
   "source": [
    "plot(sol,label=\"\",ylabel=\"u(t)\",title=\"\\$u'=\\\\sin((t+u)^2)\\$\")"
   ]
  }
 ],
 "metadata": {
  "kernelspec": {
   "display_name": "Julia (faststart)",
   "language": "julia",
   "name": "julia-fast"
  },
  "language_info": {
   "file_extension": ".jl",
   "mimetype": "application/julia",
   "name": "julia",
   "version": "1.4.1"
  }
 },
 "nbformat": 4,
 "nbformat_minor": 4
}
