{
 "cells": [
  {
   "cell_type": "markdown",
   "metadata": {},
   "source": [
    "# Convergence of RK methods\n",
    "\n",
    "We consider the IVP $u'=\\sin[(u+t)^2]$ over $0\\le t \\le 4$, with $u(0)=-1$."
   ]
  },
  {
   "cell_type": "code",
   "execution_count": null,
   "metadata": {},
   "outputs": [],
   "source": [
    "using FundamentalsNumericalComputation"
   ]
  },
  {
   "cell_type": "code",
   "execution_count": null,
   "metadata": {},
   "outputs": [],
   "source": [
    "f = (u,p,t) -> sin((t+u)^2)\n",
    "tspan = (0.0,4.0)\n",
    "u0 = -1.0\n",
    "\n",
    "ivp = ODEProblem(f,u0,tspan)"
   ]
  },
  {
   "cell_type": "markdown",
   "metadata": {},
   "source": [
    "We use a `DifferentialEquations` solver to construct an accurate approximation to the exact solution."
   ]
  },
  {
   "cell_type": "code",
   "execution_count": null,
   "metadata": {},
   "outputs": [],
   "source": [
    "u_exact = solve(ivp,Tsit5(),reltol=1e-14,abstol=1e-14);"
   ]
  },
  {
   "cell_type": "markdown",
   "metadata": {},
   "source": [
    "Now we perform a convergence study of our two Runge--Kutta implementations."
   ]
  },
  {
   "cell_type": "code",
   "execution_count": null,
   "metadata": {},
   "outputs": [],
   "source": [
    "n = @. 50*2^(0:5)\n",
    "err_IE2 = zeros(size(n))\n",
    "err_RK4 = zeros(size(n))\n",
    "for (j,n) = enumerate(n)\n",
    "    t,u = FNC.ie2(ivp,n)\n",
    "    err_IE2[j] = maximum( @.abs(u_exact(t)-u) )\n",
    "    t,u = FNC.rk4(ivp,n)\n",
    "    err_RK4[j] = maximum( @.abs(u_exact(t)-u) )\n",
    "end\n",
    "\n",
    "pretty_table((n=n,e2=err_IE2,e4=err_RK4),[\"n\",\"error in IE2\",\"error in RK4\"],backend=:html)"
   ]
  },
  {
   "cell_type": "markdown",
   "metadata": {},
   "source": [
    "The amount of computational work at each time step is assumed to be proportional to the number of stages. Let's compare on an apples-to-apples basis by using the number of $f$-evaluations on the horizontal axis."
   ]
  },
  {
   "cell_type": "code",
   "execution_count": null,
   "metadata": {},
   "outputs": [],
   "source": [
    "using Plots\n",
    "plot([2n 4n],[err_IE2 err_RK4],m=:o,label=[\"IE2\" \"RK4\"],\n",
    "    xaxis=(:log10,\"f-evaluations\"),yaxis=(:log10,\"inf-norm error\"),\n",
    "    title=\"Convergence of RK methods\",leg=:bottomleft)\n",
    "\n",
    "plot!(2n,0.01*(n/n[1]).^(-2),l=:dash,label=\"2nd order\")\n",
    "plot!(4n,1e-6*(n/n[1]).^(-4),l=:dash,label=\"4th order\")"
   ]
  },
  {
   "cell_type": "markdown",
   "metadata": {},
   "source": [
    "The fourth-order variant is more efficient in this problem over a wide range of accuracy."
   ]
  }
 ],
 "metadata": {
  "kernelspec": {
   "display_name": "Julia (faststart)",
   "language": "julia",
   "name": "julia-fast"
  },
  "language_info": {
   "file_extension": ".jl",
   "mimetype": "application/julia",
   "name": "julia",
   "version": "1.4.1"
  }
 },
 "nbformat": 4,
 "nbformat_minor": 4
}
