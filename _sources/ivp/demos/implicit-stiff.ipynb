{
 "cells": [
  {
   "cell_type": "markdown",
   "metadata": {},
   "source": [
    "# Accuracy isn't everything\n",
    "\n",
    "The following simple ODE uncovers a surprise."
   ]
  },
  {
   "cell_type": "code",
   "execution_count": null,
   "metadata": {},
   "outputs": [],
   "source": [
    "using FundamentalsNumericalComputation"
   ]
  },
  {
   "cell_type": "code",
   "execution_count": null,
   "metadata": {},
   "outputs": [],
   "source": [
    "ivp = ODEProblem((u,p,t)->u^2-u^3, 0.005, (0,400.))"
   ]
  },
  {
   "cell_type": "markdown",
   "metadata": {},
   "source": [
    "We will solve the problem first with the implicit AM2 method using $n=200$ steps."
   ]
  },
  {
   "cell_type": "code",
   "execution_count": null,
   "metadata": {},
   "outputs": [],
   "source": [
    "tI,uI = FNC.am2(ivp,200)\n",
    "\n",
    "plot(tI,uI,label=\"AM2\",xlabel=\"t\",ylabel=\"y(t)\",leg=:bottomright)"
   ]
  },
  {
   "cell_type": "markdown",
   "metadata": {},
   "source": [
    "Now we repeat the process using the explicit AB4 method."
   ]
  },
  {
   "cell_type": "code",
   "execution_count": null,
   "metadata": {},
   "outputs": [],
   "source": [
    "tE,uE = FNC.ab4(ivp,200)\n",
    "\n",
    "scatter!(tE,uE,m=3,label=\"AB4\",ylim=[-4,2])"
   ]
  },
  {
   "cell_type": "markdown",
   "metadata": {},
   "source": [
    "Once the solution starts to take off, the AB4 result goes catastrophically wrong."
   ]
  },
  {
   "cell_type": "code",
   "execution_count": null,
   "metadata": {},
   "outputs": [],
   "source": [
    "uE[105:111]"
   ]
  },
  {
   "cell_type": "markdown",
   "metadata": {},
   "source": [
    "We hope that AB4 will converge in the limit $h\\to 0$, so let's try using more steps."
   ]
  },
  {
   "cell_type": "code",
   "execution_count": null,
   "metadata": {},
   "outputs": [],
   "source": [
    "plt = scatter(tI,uI,label=\"AM2\",m=3,xlabel=\"t\",ylabel=\"y(t)\",leg=:bottomright)\n",
    "\n",
    "for n = [1000,1600]\n",
    "    tE,uE = FNC.ab4(ivp,n);\n",
    "    plot!(tE,uE,label=\"AM4, n=$n\")\n",
    "end\n",
    "display(plt)"
   ]
  },
  {
   "cell_type": "markdown",
   "metadata": {},
   "source": [
    "So AB4, which is supposed to be _more_ accurate than AM2, actually needs something like 8 times as many steps to get a reasonable-looking answer!"
   ]
  }
 ],
 "metadata": {
  "kernelspec": {
   "display_name": "Julia (faststart)",
   "language": "julia",
   "name": "julia-fast"
  },
  "language_info": {
   "file_extension": ".jl",
   "mimetype": "application/julia",
   "name": "julia",
   "version": "1.4.1"
  }
 },
 "nbformat": 4,
 "nbformat_minor": 4
}
