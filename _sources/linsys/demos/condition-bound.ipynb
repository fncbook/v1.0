{
 "cells": [
  {
   "cell_type": "markdown",
   "metadata": {},
   "source": [
    "# Condition number bounds on error"
   ]
  },
  {
   "cell_type": "code",
   "execution_count": 2,
   "metadata": {},
   "outputs": [],
   "source": [
    "using FundamentalsNumericalComputation"
   ]
  },
  {
   "cell_type": "markdown",
   "metadata": {},
   "source": [
    "Julia has a function `cond` to compute matrix condition numbers. By default, the 2-norm is used. As an example, the family of *Hilbert matrices* is famously badly conditioned. Here is the $7\\times 7$  case."
   ]
  },
  {
   "cell_type": "code",
   "execution_count": 10,
   "metadata": {},
   "outputs": [
    {
     "output_type": "execute_result",
     "data": {
      "text/plain": "7×7 Array{Float64,2}:\n 0.5       0.333333  0.25      0.2        0.166667   0.142857   0.125\n 0.333333  0.25      0.2       0.166667   0.142857   0.125      0.111111\n 0.25      0.2       0.166667  0.142857   0.125      0.111111   0.1\n 0.2       0.166667  0.142857  0.125      0.111111   0.1        0.0909091\n 0.166667  0.142857  0.125     0.111111   0.1        0.0909091  0.0833333\n 0.142857  0.125     0.111111  0.1        0.0909091  0.0833333  0.0769231\n 0.125     0.111111  0.1       0.0909091  0.0833333  0.0769231  0.0714286"
     },
     "metadata": {},
     "execution_count": 10
    }
   ],
   "source": [
    "A = [ 1/(i+j) for i=1:7, j=1:7 ]"
   ]
  },
  {
   "cell_type": "code",
   "execution_count": 13,
   "metadata": {},
   "outputs": [
    {
     "output_type": "execute_result",
     "data": {
      "text/plain": "1.6978363217187743e9"
     },
     "metadata": {},
     "execution_count": 13
    }
   ],
   "source": [
    "kappa = cond(A)"
   ]
  },
  {
   "cell_type": "markdown",
   "metadata": {},
   "source": [
    "Next we engineer a linear system problem to which we know the exact answer."
   ]
  },
  {
   "cell_type": "code",
   "execution_count": 16,
   "metadata": {},
   "outputs": [
    {
     "output_type": "execute_result",
     "data": {
      "text/plain": "7-element Array{Float64,1}:\n 5.282142857142857\n 4.342063492063492\n 3.7130952380952382\n 3.2538239538239537\n 2.900613275613275\n 2.619197469197469\n 2.389063714063714"
     },
     "metadata": {},
     "execution_count": 16
    }
   ],
   "source": [
    "x_exact = 1.:7.\n",
    "b = A*x_exact"
   ]
  },
  {
   "cell_type": "markdown",
   "metadata": {},
   "source": [
    "Now we perturb the data randomly with a vector of norm $10^{-12}$."
   ]
  },
  {
   "cell_type": "code",
   "execution_count": 19,
   "metadata": {},
   "outputs": [],
   "source": [
    "dA = randn(size(A));  dA = 1e-12*(dA/norm(dA));\n",
    "db = randn(size(b));  db = 1e-12*(db/norm(db));"
   ]
  },
  {
   "cell_type": "markdown",
   "metadata": {},
   "source": [
    "We solve the perturbed problem using built-in pivoted LU and see how the solution was changed."
   ]
  },
  {
   "cell_type": "code",
   "execution_count": 22,
   "metadata": {},
   "outputs": [],
   "source": [
    "x = (A+dA) \\ (b+db); \n",
    "dx = x - x_exact;"
   ]
  },
  {
   "cell_type": "markdown",
   "metadata": {},
   "source": [
    "Here is the relative error in the solution."
   ]
  },
  {
   "cell_type": "code",
   "execution_count": null,
   "metadata": {},
   "outputs": [],
   "source": [
    "rel_error = norm(dx) / norm(x_exact)"
   ]
  },
  {
   "cell_type": "markdown",
   "metadata": {},
   "source": [
    "And here are upper bounds predicted using the condition number of the original matrix."
   ]
  },
  {
   "cell_type": "code",
   "execution_count": 27,
   "metadata": {
    "tags": []
   },
   "outputs": [
    {
     "output_type": "stream",
     "name": "stdout",
     "text": "b_bound = (kappa * 1.0e-12) / norm(b) = 31199.15292984503\nA_bound = (kappa * 1.0e-12) / norm(A) = 212703.76372741602\n"
    }
   ],
   "source": [
    "@show b_bound = kappa * 1e-12/norm(b);\n",
    "@show A_bound = kappa * 1e-12/norm(A);"
   ]
  },
  {
   "cell_type": "markdown",
   "metadata": {},
   "source": [
    "Even if we don't make any manual perturbations to the data, machine epsilon does when we solve the linear system numerically."
   ]
  },
  {
   "cell_type": "code",
   "execution_count": 30,
   "metadata": {
    "tags": []
   },
   "outputs": [
    {
     "output_type": "stream",
     "name": "stdout",
     "text": "rel_error = norm(x - x_exact) / norm(x_exact) = 10.847226987239631\nrounding_bound = kappa * eps() = 66.48708607047894\n"
    }
   ],
   "source": [
    "x = A\\b;\n",
    "@show rel_error = norm(x - x_exact) / norm(x_exact);\n",
    "@show rounding_bound = kappa*eps();"
   ]
  },
  {
   "cell_type": "markdown",
   "metadata": {},
   "source": [
    "Because $\\kappa\\approx 10^8$, it's possible to lose 8 digits of accuracy in the process of passing from $A$ and $b$ to $x$. That's independent of the algorithm; it's inevitable once the data are expressed in double precision. \n",
    "\n",
    "Larger Hilbert matrices are even more poorly conditioned."
   ]
  },
  {
   "cell_type": "code",
   "execution_count": 33,
   "metadata": {},
   "outputs": [
    {
     "output_type": "execute_result",
     "data": {
      "text/plain": "2.9943121605195904e17"
     },
     "metadata": {},
     "execution_count": 33
    }
   ],
   "source": [
    "A = [ 1/(i+j) for i=1:14, j=1:14 ];\n",
    "kappa = cond(A)"
   ]
  },
  {
   "cell_type": "markdown",
   "metadata": {},
   "source": [
    "Before we compute the solution, note that $\\kappa$ exceeds `1/eps()`. In principle we therefore might end up with an answer that is completely wrong (i.e., a relative error greater than 100%)."
   ]
  },
  {
   "cell_type": "code",
   "execution_count": 35,
   "metadata": {},
   "outputs": [
    {
     "output_type": "execute_result",
     "data": {
      "text/plain": "66.48708607047894"
     },
     "metadata": {},
     "execution_count": 35
    }
   ],
   "source": [
    "rounding_bound = kappa*eps()"
   ]
  },
  {
   "cell_type": "code",
   "execution_count": 37,
   "metadata": {},
   "outputs": [],
   "source": [
    "x_exact = 1.:14.;\n",
    "b = A*x_exact;  \n",
    "x = A\\b;"
   ]
  },
  {
   "cell_type": "markdown",
   "metadata": {},
   "source": [
    "We got an answer. But in fact the error does exceed 100%."
   ]
  },
  {
   "cell_type": "code",
   "execution_count": 38,
   "metadata": {},
   "outputs": [
    {
     "output_type": "execute_result",
     "data": {
      "text/plain": "10.847226987239631"
     },
     "metadata": {},
     "execution_count": 38
    }
   ],
   "source": [
    "relative_error = norm(x_exact - x) / norm(x_exact)"
   ]
  }
 ],
 "metadata": {
  "kernelspec": {
   "display_name": "Julia (faststart)",
   "language": "julia",
   "name": "julia-fast"
  },
  "language_info": {
   "file_extension": ".jl",
   "mimetype": "application/julia",
   "name": "julia",
   "version": "3.7.3-final"
  }
 },
 "nbformat": 4,
 "nbformat_minor": 4
}