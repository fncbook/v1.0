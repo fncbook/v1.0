{
 "cells": [
  {
   "cell_type": "markdown",
   "metadata": {},
   "source": [
    "# Timing and flop counts"
   ]
  },
  {
   "cell_type": "code",
   "execution_count": 1,
   "metadata": {},
   "outputs": [],
   "source": [
    "using FundamentalsNumericalComputation"
   ]
  },
  {
   "cell_type": "code",
   "execution_count": 2,
   "metadata": {},
   "outputs": [],
   "source": [
    "n = 6\n",
    "A = randn(n,n)\n",
    "x = ones(n)\n",
    "y = zeros(n)\n",
    "for i = 1:n\n",
    "    for j = 1:n\n",
    "        y[i] = y[i] + A[i,j]*x[j]   # 2 flops\n",
    "    end\n",
    "end"
   ]
  },
  {
   "cell_type": "markdown",
   "metadata": {},
   "source": [
    "Each of the loops implies a summation of flops. The total flop count for this algorithm is\n",
    "\\[ \\sum_{i=1}^n \\sum_{j=1}^n 2 = \\sum_{i=1}^n 2n = 2n^2. \\]\n",
    "Since the matrix $A$ has $n^2$ elements, all of which have to be involved in the product, it seems unlikely that we could get a flop count that is smaller than $O(n^2)$.\n",
    "\n",
    "\n",
    "Let's run an experiment with the built-in matrix-vector multiplication. We assume that flops dominate the computation time and thus measure elapsed time."
   ]
  },
  {
   "cell_type": "code",
   "execution_count": 3,
   "metadata": {},
   "outputs": [],
   "source": [
    "n = 400:400:4000\n",
    "t = zeros(size(n))\n",
    "for (i,n) in enumerate(n) \n",
    "    A = randn(n,n)  \n",
    "    x = randn(n)\n",
    "    t[i] = @elapsed for j = 1:10; A*x; end\n",
    "end"
   ]
  },
  {
   "cell_type": "markdown",
   "metadata": {},
   "source": [
    "The reason for doing multiple repetitions at each value of $n$ is to avoid having times so short that the resolution of the timer is a factor."
   ]
  },
  {
   "cell_type": "code",
   "execution_count": 5,
   "metadata": {
    "tags": []
   },
   "outputs": [
    {
     "data": {
      "text/html": [
       "<!DOCTYPE html>\n",
       "<html>\n",
       "<meta charset=\"UTF-8\">\n",
       "<style>\n",
       "table, td, th {\n",
       "    border-collapse: collapse;\n",
       "    font-family: sans-serif;\n",
       "}\n",
       "\n",
       "td, th {\n",
       "    border-bottom: 0;\n",
       "    padding: 4px\n",
       "}\n",
       "\n",
       "tr:nth-child(odd) {\n",
       "    background: #eee;\n",
       "}\n",
       "\n",
       "tr:nth-child(even) {\n",
       "    background: #fff;\n",
       "}\n",
       "\n",
       "tr.header {\n",
       "    background: navy !important;\n",
       "    color: white;\n",
       "    font-weight: bold;\n",
       "}\n",
       "\n",
       "tr.subheader {\n",
       "    background: lightgray !important;\n",
       "    color: black;\n",
       "}\n",
       "\n",
       "tr.headerLastRow {\n",
       "    border-bottom: 2px solid black;\n",
       "}\n",
       "\n",
       "th.rowNumber, td.rowNumber {\n",
       "    text-align: right;\n",
       "}\n",
       "\n",
       "</style>\n",
       "<body>\n",
       "<table>\n",
       "<tr class = header>\n",
       "<th style = \"text-align: right; \">size</th>\n",
       "<th style = \"text-align: right; \">time</th>\n",
       "</tr>\n",
       "<tr class = \"subheader headerLastRow\">\n",
       "<th style = \"text-align: right; \"></th>\n",
       "<th style = \"text-align: right; \">(sec)</th>\n",
       "</tr>\n",
       "<tr>\n",
       "<td style = \"text-align: right; \">400</td>\n",
       "<td style = \"text-align: right; \">0.005796118</td>\n",
       "</tr>\n",
       "<tr>\n",
       "<td style = \"text-align: right; \">800</td>\n",
       "<td style = \"text-align: right; \">0.001190437</td>\n",
       "</tr>\n",
       "<tr>\n",
       "<td style = \"text-align: right; \">1200</td>\n",
       "<td style = \"text-align: right; \">0.006474767</td>\n",
       "</tr>\n",
       "<tr>\n",
       "<td style = \"text-align: right; \">1600</td>\n",
       "<td style = \"text-align: right; \">0.012272837</td>\n",
       "</tr>\n",
       "<tr>\n",
       "<td style = \"text-align: right; \">2000</td>\n",
       "<td style = \"text-align: right; \">0.019483706</td>\n",
       "</tr>\n",
       "<tr>\n",
       "<td style = \"text-align: right; \">2400</td>\n",
       "<td style = \"text-align: right; \">0.028514672</td>\n",
       "</tr>\n",
       "<tr>\n",
       "<td style = \"text-align: right; \">2800</td>\n",
       "<td style = \"text-align: right; \">0.036926078</td>\n",
       "</tr>\n",
       "<tr>\n",
       "<td style = \"text-align: right; \">3200</td>\n",
       "<td style = \"text-align: right; \">0.049970096</td>\n",
       "</tr>\n",
       "<tr>\n",
       "<td style = \"text-align: right; \">3600</td>\n",
       "<td style = \"text-align: right; \">0.062780668</td>\n",
       "</tr>\n",
       "<tr>\n",
       "<td style = \"text-align: right; \">4000</td>\n",
       "<td style = \"text-align: right; \">0.072076275</td>\n",
       "</tr>\n",
       "</table>\n",
       "</body>\n",
       "</html>\n"
      ]
     },
     "metadata": {},
     "output_type": "display_data"
    }
   ],
   "source": [
    "pretty_table((n=n,t=t),[\"size\" \"time\";\"\" \"(sec)\"],backend=:html)"
   ]
  }
 ],
 "metadata": {
  "kernelspec": {
   "display_name": "Julia (faststart)",
   "language": "julia",
   "name": "julia-fast"
  },
  "language_info": {
   "file_extension": ".jl",
   "mimetype": "application/julia",
   "name": "julia",
   "version": "1.4.1"
  }
 },
 "nbformat": 4,
 "nbformat_minor": 4
}
