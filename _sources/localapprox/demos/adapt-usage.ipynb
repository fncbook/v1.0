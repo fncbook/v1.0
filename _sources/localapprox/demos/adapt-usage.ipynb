{
 "cells": [
  {
   "cell_type": "markdown",
   "metadata": {},
   "source": [
    "# Adaptive integration"
   ]
  },
  {
   "cell_type": "code",
   "execution_count": null,
   "metadata": {},
   "outputs": [],
   "source": [
    "using FundamentalsNumericalComputation"
   ]
  },
  {
   "cell_type": "code",
   "execution_count": null,
   "metadata": {},
   "outputs": [],
   "source": [
    "f = x -> (x+1)^2*cos((2*x+1)/(x-4.3));\n",
    "\n",
    "@show exact,errest = quadgk(f,0,4,atol=1e-14,rtol=1e-14);  # 'exact' value"
   ]
  },
  {
   "cell_type": "markdown",
   "metadata": {},
   "source": [
    "We perform the integration and show the nodes selected underneath the curve."
   ]
  },
  {
   "cell_type": "code",
   "execution_count": null,
   "metadata": {},
   "outputs": [],
   "source": [
    "Q,t = FNC.intadapt(f,0,4,0.001)\n",
    "@show num_nodes = length(t);\n",
    "\n",
    "plot(f,0,4,color=:black,legend=:none,\n",
    "    xlabel=\"x\", ylabel=\"f(x)\", title=\"Adaptive node selection\")\n",
    "plot!(t,f.(t),seriestype=:sticks,m=(:o,2))"
   ]
  },
  {
   "cell_type": "markdown",
   "metadata": {},
   "source": [
    "The error turns out to be a bit more than we requested. It's only an estimate, not a guarantee."
   ]
  },
  {
   "cell_type": "code",
   "execution_count": null,
   "metadata": {},
   "outputs": [],
   "source": [
    "@show err = exact - Q;"
   ]
  },
  {
   "cell_type": "markdown",
   "metadata": {},
   "source": [
    "Let's see how the number of integrand evaluations and the error vary with the requested tolerance."
   ]
  },
  {
   "cell_type": "code",
   "execution_count": null,
   "metadata": {},
   "outputs": [],
   "source": [
    "table = (tol=[],err=[],n=[])\n",
    "for tol in 10.0.^(-4:-1:-14)\n",
    "    Q,t = FNC.intadapt(f,0,4,tol)\n",
    "    push!(table.tol,tol)\n",
    "    push!(table.err,exact-Q)\n",
    "    push!(table.n,length(t))\n",
    "end\n",
    "\n",
    "pretty_table(table,[\"tolerance\",\"error\",\"f-evaluations\"],backend=:html)"
   ]
  },
  {
   "cell_type": "markdown",
   "metadata": {},
   "source": [
    "As you can see, even though the errors are not less than the estimates, the two columns decrease in tandem. If we consider now the convergence not in $h$ (which is poorly defined) but in the number of nodes actually chosen, we come close to the fourth order accuracy of the underlying Simpson scheme."
   ]
  },
  {
   "cell_type": "code",
   "execution_count": null,
   "metadata": {},
   "outputs": [],
   "source": [
    "n = table.n\n",
    "plot(n,abs.(table.err),m=:o,label=\"results\",\n",
    "    xaxis=(:log10,\"number of nodes\"), yaxis=(:log10,\"error\"),\n",
    "    title=\"Convergence of adaptive quadrature\")\n",
    "\n",
    "order4 = @. 0.01*(n/n[1])^(-4)\n",
    "plot!(n,order4,l=:dash,label=\"\\$O(n^{-4})\\$\")"
   ]
  }
 ],
 "metadata": {
  "kernelspec": {
   "display_name": "Julia (faststart)",
   "language": "julia",
   "name": "julia-fast"
  },
  "language_info": {
   "file_extension": ".jl",
   "mimetype": "application/julia",
   "name": "julia",
   "version": "1.4.1"
  }
 },
 "nbformat": 4,
 "nbformat_minor": 4
}
