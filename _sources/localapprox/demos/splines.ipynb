{
 "cells": [
  {
   "cell_type": "markdown",
   "metadata": {},
   "source": [
    "# Cubic splines\n",
    "\n",
    "For illustration, here is a spline interpolant using just a few nodes."
   ]
  },
  {
   "cell_type": "code",
   "execution_count": null,
   "metadata": {},
   "outputs": [],
   "source": [
    "using FundamentalsNumericalComputation"
   ]
  },
  {
   "cell_type": "code",
   "execution_count": null,
   "metadata": {},
   "outputs": [],
   "source": [
    "f = x -> exp(sin(7*x))\n",
    "\n",
    "plot(f,0,1,label=\"function\")\n",
    "\n",
    "t = [0, 0.075, 0.25, 0.55, 0.7, 1]  # nodes\n",
    "y = f.(t)                           # values at nodes\n",
    "\n",
    "scatter!(t,y,label=\"nodes\")"
   ]
  },
  {
   "cell_type": "code",
   "execution_count": null,
   "metadata": {},
   "outputs": [],
   "source": [
    "S = FNC.spinterp(t,y)\n",
    "\n",
    "plot!(S,0,1,label=\"spline\")"
   ]
  },
  {
   "cell_type": "markdown",
   "metadata": {},
   "source": [
    "Now we look at the convergence rate as the number of nodes increases."
   ]
  },
  {
   "cell_type": "code",
   "execution_count": null,
   "metadata": {},
   "outputs": [],
   "source": [
    "x = (0:10000)/1e4              # sample the difference at many points\n",
    "n = @. round(Int,2^(3:0.5:8))  # numbers of nodes\n",
    "err = zeros(0)\n",
    "for n in n\n",
    "    t = (0:n)/n \n",
    "    S = FNC.spinterp(t,f.(t))\n",
    "    dif = @. f(x)-S(x)\n",
    "    push!(err,norm(dif,Inf))\n",
    "end\n",
    "\n",
    "pretty_table((n=n,error=err),backend=:html)"
   ]
  },
  {
   "cell_type": "markdown",
   "metadata": {},
   "source": [
    "Since we expect convergence that is $O(h^4)=O(n^{-4})$, we use a log-log graph of error and expect a straight line of slope $-4$."
   ]
  },
  {
   "cell_type": "code",
   "execution_count": null,
   "metadata": {},
   "outputs": [],
   "source": [
    "order4 = @. (n/n[1])^(-4)\n",
    "\n",
    "plot(n,[err order4],m=[:o :none],l=[:solid :dash],label=[\"error\" \"4th order\"],\n",
    "    xaxis=(:log10,\"n\"), yaxis=(:log10,\"\\$\\\\| f-S \\\\|_\\\\infty\\$\"),\n",
    "    title=\"Convergence of spline interpolation\")"
   ]
  }
 ],
 "metadata": {
  "kernelspec": {
   "display_name": "Julia (faststart)",
   "language": "julia",
   "name": "julia-fast"
  },
  "language_info": {
   "file_extension": ".jl",
   "mimetype": "application/julia",
   "name": "julia",
   "version": "1.4.1"
  }
 },
 "nbformat": 4,
 "nbformat_minor": 4
}
