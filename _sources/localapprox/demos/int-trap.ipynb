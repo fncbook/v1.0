{
 "cells": [
  {
   "cell_type": "markdown",
   "metadata": {},
   "source": [
    "# Convergence of trapezoidal integration\n",
    "\n",
    "We approximate the integral of the function $f(x)=e^{\\sin 7x}$ over the interval $[0,2]$."
   ]
  },
  {
   "cell_type": "code",
   "execution_count": null,
   "metadata": {},
   "outputs": [],
   "source": [
    "using FundamentalsNumericalComputation"
   ]
  },
  {
   "cell_type": "code",
   "execution_count": null,
   "metadata": {},
   "outputs": [],
   "source": [
    "f = x -> exp(sin(7*x));\n",
    "a = 0;  b = 2;"
   ]
  },
  {
   "cell_type": "markdown",
   "metadata": {},
   "source": [
    "In lieu of the exact value, we will use the `QuadGK` package to find an accurate result."
   ]
  },
  {
   "cell_type": "code",
   "execution_count": null,
   "metadata": {},
   "outputs": [],
   "source": [
    "Q,errest = quadgk(f,a,b,atol=1e-14,rtol=1e-14);\n",
    "println(\"Integral = $Q\")"
   ]
  },
  {
   "cell_type": "markdown",
   "metadata": {},
   "source": [
    "Here is the error at $n=40$."
   ]
  },
  {
   "cell_type": "code",
   "execution_count": null,
   "metadata": {},
   "outputs": [],
   "source": [
    "T,t,y = FNC.trapezoid(f,a,b,40)\n",
    "@show T;\n",
    "@show err = Q - T;"
   ]
  },
  {
   "cell_type": "markdown",
   "metadata": {},
   "source": [
    "In order to check the order of accuracy, we double $n$ a few times and observe how the error decreases."
   ]
  },
  {
   "cell_type": "code",
   "execution_count": null,
   "metadata": {},
   "outputs": [],
   "source": [
    "n = @. 40*2^(0:5)\n",
    "err = []\n",
    "for n in n\n",
    "    T,t,y = FNC.trapezoid(f,a,b,n)\n",
    "    push!(err,Q-T)\n",
    "end\n",
    "\n",
    "pretty_table((n=n,error=err),backend=:html)"
   ]
  },
  {
   "cell_type": "markdown",
   "metadata": {},
   "source": [
    "Each doubling of $n$ cuts the error by a factor of about 4, which is consistent with second-order convergence. Another check: the slope on a log-log graph should be $-2$."
   ]
  },
  {
   "cell_type": "code",
   "execution_count": null,
   "metadata": {},
   "outputs": [],
   "source": [
    "plot(n,abs.(err),m=:o,label=\"results\",\n",
    "    xaxis=(:log10,\"n\"), yaxis=(:log10,\"error\"),\n",
    "    title=\"Convergence of trapezoidal integration\")\n",
    "\n",
    "plot!(n,3e-3*(n/n[1]).^(-2),l=:dash,label=\"2nd order\")"
   ]
  }
 ],
 "metadata": {
  "kernelspec": {
   "display_name": "Julia (faststart)",
   "language": "julia",
   "name": "julia-fast"
  },
  "language_info": {
   "file_extension": ".jl",
   "mimetype": "application/julia",
   "name": "julia",
   "version": "1.4.1"
  }
 },
 "nbformat": 4,
 "nbformat_minor": 4
}
