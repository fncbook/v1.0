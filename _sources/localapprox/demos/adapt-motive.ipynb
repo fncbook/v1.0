{
 "cells": [
  {
   "cell_type": "markdown",
   "metadata": {},
   "source": [
    "# An oscillatory integrand\n",
    "\n",
    "This function gets increasingly oscillatory near the right endpoint."
   ]
  },
  {
   "cell_type": "code",
   "execution_count": null,
   "metadata": {},
   "outputs": [],
   "source": [
    "using FundamentalsNumericalComputation"
   ]
  },
  {
   "cell_type": "code",
   "execution_count": null,
   "metadata": {},
   "outputs": [],
   "source": [
    "f = x -> (x+1)^2*cos((2*x+1)/(x-4.3))\n",
    "plot(f,0,4,label=\"\", xlabel=\"x\", ylabel=\"f(x)\")"
   ]
  },
  {
   "cell_type": "markdown",
   "metadata": {},
   "source": [
    "Accordingly, the trapezoid rule is more accurate on the left half of the interval than on the right half."
   ]
  },
  {
   "cell_type": "code",
   "execution_count": null,
   "metadata": {},
   "outputs": [],
   "source": [
    "n = @. 50*2^(0:3)\n",
    "Tleft = []; Tright = [];\n",
    "for (i,n) = enumerate(n)\n",
    "    Tleft = [ Tleft; FNC.trapezoid(f,0,2,n)[1] ] \n",
    "    Tright = [ Tright; FNC.trapezoid(f,2,4,n)[1] ] \n",
    "end"
   ]
  },
  {
   "cell_type": "code",
   "execution_count": null,
   "metadata": {},
   "outputs": [],
   "source": [
    "left_val,err = quadgk(f,0,2,atol=1e-14,rtol=1e-14);\n",
    "right_val,err = quadgk(f,2,4,atol=1e-14,rtol=1e-14);"
   ]
  },
  {
   "cell_type": "code",
   "execution_count": null,
   "metadata": {},
   "outputs": [],
   "source": [
    "table = (n=n, left=Tleft.-left_val, right=Tright.-right_val)\n",
    "pretty_table(table,[\"n\" \"left error\" \"right error\"],backend=:html)"
   ]
  },
  {
   "cell_type": "markdown",
   "metadata": {},
   "source": [
    "Both the picture and the numbers suggest that more nodes should be used on the right half of the interval than on the left half."
   ]
  }
 ],
 "metadata": {
  "kernelspec": {
   "display_name": "Julia (faststart)",
   "language": "julia",
   "name": "julia-fast"
  },
  "language_info": {
   "file_extension": ".jl",
   "mimetype": "application/julia",
   "name": "julia",
   "version": "1.4.1"
  }
 },
 "nbformat": 4,
 "nbformat_minor": 4
}
