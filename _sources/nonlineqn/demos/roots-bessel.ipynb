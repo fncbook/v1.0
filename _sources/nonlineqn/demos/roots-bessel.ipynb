{
 "cells": [
  {
   "cell_type": "markdown",
   "metadata": {},
   "source": [
    "# Roots of Bessel functions\n",
    "\n",
    "In the theory of vibrations of a circular drum, the displacement of the drumhead can be expressed in terms of pure harmonic modes, \n",
    "\n",
    "$$J_m(\\omega_{k,m} r) \\cos(m\\theta) \\cos(c \\omega_{k,m} t),$$\n",
    "\n",
    "where $(r,\\theta)$ are polar coordinates, $0\\le r\\le 1$, $t$ is time, $m$ is a positive integer, $c$ is a material parameter, and $J_m$ is a _Bessel function of the first kind_. The quantity $\\omega_{k,m}$ is a resonant frequency and is a positive root of the equation  \n",
    "\n",
    "$$J_m(\\omega_{k,m}) = 0,$$ \n",
    "\n",
    "which states that the drumhead is clamped around the rim. Tabulating approximations to the zeros of Bessel functions has occupied countless mathematician-hours throughout the centuries."
   ]
  },
  {
   "cell_type": "code",
   "execution_count": null,
   "metadata": {},
   "outputs": [],
   "source": [
    "using FundamentalsNumericalComputation,SpecialFunctions"
   ]
  },
  {
   "cell_type": "code",
   "execution_count": null,
   "metadata": {},
   "outputs": [],
   "source": [
    "J3(x) = besselj(3,x)\n",
    "plot(J3,0,20,\n",
    "    grid=:xy, legend=:none,\n",
    "    xaxis=(\"\\$x\\$\"), yaxis=(\"\\$J_3(x)\\$\"), title=\"Bessel function\")"
   ]
  },
  {
   "cell_type": "markdown",
   "metadata": {},
   "source": [
    "From the graph we see roots near 6, 10, 13, 16, and 19. We use `nlsolve` from the `NLsolve` package to find these roots accurately. (It uses vector variables, so we have to adapt it for use with scalars.)"
   ]
  },
  {
   "cell_type": "code",
   "execution_count": null,
   "metadata": {},
   "outputs": [],
   "source": [
    "omega = []\n",
    "for guess = [6.,10.,13.,16.,19.]\n",
    "    s = nlsolve(x->besselj(3,x[1]),[guess])\n",
    "    omega = [omega;s.zero]\n",
    "end"
   ]
  },
  {
   "cell_type": "code",
   "execution_count": null,
   "metadata": {},
   "outputs": [],
   "source": [
    "pretty_table([omega J3.(omega)],[\"root estimate\" \"function value\"],backend=:html)\n"
   ]
  },
  {
   "cell_type": "code",
   "execution_count": null,
   "metadata": {},
   "outputs": [],
   "source": [
    "scatter!(omega,J3.(omega),title=\"Bessel function with roots\")"
   ]
  }
 ],
 "metadata": {
  "kernelspec": {
   "display_name": "Julia (faststart)",
   "language": "julia",
   "name": "julia-fast"
  },
  "language_info": {
   "file_extension": ".jl",
   "mimetype": "application/julia",
   "name": "julia",
   "version": "1.4.1"
  }
 },
 "nbformat": 4,
 "nbformat_minor": 4
}
