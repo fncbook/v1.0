{
 "cells": [
  {
   "cell_type": "markdown",
   "metadata": {},
   "source": [
    "# Absolute and relative accuracy\n",
    "\n",
    "Recall the grade-school approximation to the number $\\pi$."
   ]
  },
  {
   "cell_type": "code",
   "execution_count": 1,
   "metadata": {},
   "outputs": [
    {
     "name": "stdout",
     "output_type": "stream",
     "text": [
      "p = 22 / 7 = 3.142857142857143\n"
     ]
    }
   ],
   "source": [
    "@show p = 22/7;"
   ]
  },
  {
   "cell_type": "markdown",
   "metadata": {},
   "source": [
    "Not all the digits displayed for `p` are the same as those of $\\pi$. As an approximation, its absolute and relative accuracy are"
   ]
  },
  {
   "cell_type": "code",
   "execution_count": 2,
   "metadata": {},
   "outputs": [
    {
     "name": "stdout",
     "output_type": "stream",
     "text": [
      "abs_accuracy = abs(p - pi) = 0.0012644892673496777\n"
     ]
    }
   ],
   "source": [
    "@show abs_accuracy = abs(p-pi);"
   ]
  },
  {
   "cell_type": "code",
   "execution_count": 3,
   "metadata": {},
   "outputs": [
    {
     "name": "stdout",
     "output_type": "stream",
     "text": [
      "rel_accuracy = abs(p - pi) / pi = 0.0004024994347707008\n"
     ]
    }
   ],
   "source": [
    "@show rel_accuracy = abs(p-pi)/pi;"
   ]
  },
  {
   "cell_type": "markdown",
   "metadata": {},
   "source": [
    "Note that $\\pi$ is predefined in Julia. (You can also use the Greek letter for it by typing `\\pi` and then pressing Tab.) Here we calculate the number of accurate digits in `p`."
   ]
  },
  {
   "cell_type": "code",
   "execution_count": 4,
   "metadata": {},
   "outputs": [
    {
     "name": "stdout",
     "output_type": "stream",
     "text": [
      "accurate_digits = -(log(10, rel_accuracy)) = 3.395234725174716\n"
     ]
    }
   ],
   "source": [
    "@show accurate_digits = -log(10,rel_accuracy);"
   ]
  }
 ],
 "metadata": {
  "kernelspec": {
   "display_name": "Julia (faststart)",
   "language": "julia",
   "name": "julia-fast"
  },
  "language_info": {
   "file_extension": ".jl",
   "mimetype": "application/julia",
   "name": "julia",
   "version": "1.4.1"
  }
 },
 "nbformat": 4,
 "nbformat_minor": 4
}
